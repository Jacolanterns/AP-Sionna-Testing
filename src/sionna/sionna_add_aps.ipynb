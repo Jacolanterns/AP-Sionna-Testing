{
 "cells": [
  {
   "cell_type": "code",
   "execution_count": null,
   "metadata": {},
   "outputs": [],
   "source": [
    "import numpy as np\n",
    "import tensorflow as tf \n",
    "import sionna \n",
    "from sionna.rt import Scene, Transmitter, RadioMaterial, load_scene, PlanarArray, Receiver\n",
    "\n",
    "import csv"
   ]
  },
  {
   "cell_type": "code",
   "execution_count": null,
   "metadata": {},
   "outputs": [],
   "source": [
    "import os\n",
    "os.chdir('/home/sionna/Documents/GitTest2/AP-Sionna-Testing')\n",
    "print(f\"Working directory: {os.getcwd()}\")\n",
    "\n",
    "scene = Scene(\"data/blender/2F_no_solid.xml\")\n",
    "scene.frequency = 2.4e9\n",
    "print(f\"Loaded scene with frequency: {scene.frequency} Hz\")"
   ]
  },
  {
   "cell_type": "code",
   "execution_count": null,
   "metadata": {},
   "outputs": [],
   "source": [
    "scene.preview()"
   ]
  },
  {
   "cell_type": "code",
   "execution_count": null,
   "metadata": {},
   "outputs": [],
   "source": [
    "# Add the tranmistters from the data positions file\n",
    "def load_transmitters(filename):\n",
    "    transmitters = []\n",
    "    with open(filename, \"r\") as file:\n",
    "        csv_reader = csv.reader(file)\n",
    "        for row in csv_reader:\n",
    "            name = row[0]\n",
    "            x, y, z = map(float, row[1:])\n",
    "            transmitters.append((name, [x, y, z])) \n",
    "    return transmitters"
   ]
  },
  {
   "cell_type": "markdown",
   "metadata": {},
   "source": [
    "# Rotate and translate the AP Points \n",
    "Make the necessary transformations until they match the correct position"
   ]
  },
  {
   "cell_type": "code",
   "execution_count": null,
   "metadata": {},
   "outputs": [],
   "source": [
    "import pandas as pd\n",
    "import matplotlib.pyplot as plt\n",
    "from mpl_toolkits.mplot3d import Axes3D"
   ]
  },
  {
   "cell_type": "code",
   "execution_count": null,
   "metadata": {},
   "outputs": [],
   "source": [
    "data = pd.read_csv('ap_data/2f.csv', header=None)\n",
    "data.columns = ['Object', 'X', 'Y', 'Z']\n",
    "print(data)"
   ]
  },
  {
   "cell_type": "code",
   "execution_count": null,
   "metadata": {},
   "outputs": [],
   "source": [
    "def rotation_matrix(theta_x, theta_y, theta_z):\n",
    "    \"\"\"\n",
    "    Create a rotation matrix for the given angles (in radians) around x, y, z axes.\n",
    "    \"\"\"\n",
    "    # Rotation around X\n",
    "    Rx = np.array([[1, 0, 0],\n",
    "                   [0, np.cos(theta_x), -np.sin(theta_x)],\n",
    "                   [0, np.sin(theta_x), np.cos(theta_x)]])\n",
    "    \n",
    "    # Rotation around Y\n",
    "    Ry = np.array([[np.cos(theta_y), 0, np.sin(theta_y)],\n",
    "                   [0, 1, 0],\n",
    "                   [-np.sin(theta_y), 0, np.cos(theta_y)]])\n",
    "    \n",
    "    # Rotation around Z\n",
    "    Rz = np.array([[np.cos(theta_z), -np.sin(theta_z), 0],\n",
    "                   [np.sin(theta_z), np.cos(theta_z), 0],\n",
    "                   [0, 0, 1]])\n",
    "    \n",
    "    # Combined rotation matrix\n",
    "    return Rz @ Ry @ Rx\n",
    "\n",
    "def apply_transformation(data, theta_x, theta_y, theta_z, translation):\n",
    "    \"\"\"\n",
    "    Apply rotation and translation to the data points.\n",
    "    \"\"\"\n",
    "    # Create rotation matrix\n",
    "    R = rotation_matrix(theta_x, theta_y, theta_z)\n",
    "    \n",
    "    # Apply transformation\n",
    "    transformed_data = data.copy()\n",
    "    \n",
    "    for i in range(len(data)):\n",
    "        point = np.array([data.iloc[i]['X'], data.iloc[i]['Y'], data.iloc[i]['Z']])\n",
    "        rotated_point = R @ point  # Rotate the point\n",
    "        transformed_data.iloc[i, 1:4] = rotated_point + translation  # Translate the point\n",
    "    \n",
    "    return transformed_data\n"
   ]
  },
  {
   "cell_type": "code",
   "execution_count": null,
   "metadata": {},
   "outputs": [],
   "source": [
    "# Define rotation angles in radians\n",
    "theta_x = np.radians(-90)  # Rotation about X axis\n",
    "theta_y = np.radians(0)  # Rotation about Y axis\n",
    "theta_z = np.radians(0)  # Rotation about Z axis\n",
    "\n",
    "# Define translation vector\n",
    "translation = np.array([-75, 0, 0])  # Translation along X, Y, Z axes"
   ]
  },
  {
   "cell_type": "code",
   "execution_count": null,
   "metadata": {},
   "outputs": [],
   "source": [
    "# Apply the transformations\n",
    "transformed_data = apply_transformation(data, theta_x, theta_y, theta_z, translation)"
   ]
  },
  {
   "cell_type": "code",
   "execution_count": null,
   "metadata": {},
   "outputs": [],
   "source": [
    "# Plotting the original and transformed points\n",
    "fig = plt.figure(figsize=(12, 6))\n",
    "\n",
    "# Original data plot\n",
    "ax1 = fig.add_subplot(121, projection='3d')\n",
    "ax1.scatter(data['X'], data['Y'], data['Z'], color='b', label='Original')\n",
    "ax1.set_title('Original Data')\n",
    "ax1.set_xlabel('X')\n",
    "ax1.set_ylabel('Y')\n",
    "ax1.set_zlabel('Z')\n",
    "ax1.legend()\n",
    "\n",
    "# Transformed data plot\n",
    "ax2 = fig.add_subplot(122, projection='3d')\n",
    "ax2.scatter(transformed_data['X'], transformed_data['Y'], transformed_data['Z'], color='r', label='Transformed')\n",
    "ax2.set_title('Transformed Data')\n",
    "ax2.set_xlabel('X')\n",
    "ax2.set_ylabel('Y')\n",
    "ax2.set_zlabel('Z')\n",
    "ax2.legend()\n",
    "\n",
    "plt.show()"
   ]
  },
  {
   "cell_type": "code",
   "execution_count": null,
   "metadata": {},
   "outputs": [],
   "source": [
    "for tx in scene.transmitters:\n",
    "    scene.remove(tx)"
   ]
  },
  {
   "cell_type": "code",
   "execution_count": null,
   "metadata": {},
   "outputs": [],
   "source": [
    "transformed_data.to_csv('transformed_data.csv', index=False, header=False)"
   ]
  },
  {
   "cell_type": "code",
   "execution_count": null,
   "metadata": {},
   "outputs": [],
   "source": [
    "transmitters = load_transmitters(\"transformed_data.csv\")\n",
    "\n",
    "for name, position in transmitters:\n",
    "    tx = Transmitter(name=name, position=position)\n",
    "    scene.add(tx)"
   ]
  },
  {
   "cell_type": "code",
   "execution_count": null,
   "metadata": {},
   "outputs": [],
   "source": [
    "scene.preview()"
   ]
  },
  {
   "cell_type": "markdown",
   "metadata": {},
   "source": [
    "# Simulate signal"
   ]
  },
  {
   "cell_type": "code",
   "execution_count": null,
   "metadata": {},
   "outputs": [],
   "source": [
    "scene.frequency = 2.4e9"
   ]
  },
  {
   "cell_type": "code",
   "execution_count": null,
   "metadata": {},
   "outputs": [],
   "source": [
    "# Remove existing receivers first\n",
    "for rx_item in scene.receivers:\n",
    "    scene.remove(rx_item)\n",
    "\n",
    "# Configure antenna array for all transmitters\n",
    "scene.tx_array = PlanarArray(num_rows=2,\n",
    "                            num_cols=2,\n",
    "                            vertical_spacing=0.5,    \n",
    "                            horizontal_spacing=0.5,  \n",
    "                            pattern=\"dipole\",        \n",
    "                            polarization=\"VH\")\n",
    "\n",
    "# Configure antenna array for all receivers\n",
    "scene.rx_array = PlanarArray(num_rows=2,\n",
    "                        num_cols=2,\n",
    "                        vertical_spacing=0.5,\n",
    "                        horizontal_spacing=0.5,\n",
    "                        pattern=\"dipole\",\n",
    "                        polarization=\"VH\")\n",
    "\n",
    "# Place receiver INSIDE the building based on AP coordinate ranges\n",
    "# APs are roughly at X: -286 to 140, Y: -317 to 222, Z: ~32\n",
    "rx = Receiver(name=\"rx\",\n",
    "               position=[200, 35, -200],  # Center of building at floor level\n",
    "                orientation=[0, 0, 0])\n",
    "\n",
    "scene.add(rx)"
   ]
  },
  {
   "cell_type": "code",
   "execution_count": null,
   "metadata": {},
   "outputs": [],
   "source": [
    "#tx = Transmitter(name=\"test\", position=[1, 1, 15], orientation=[0,0,0])\n",
    "#scene.add(tx)\n",
    "#tx.look_at(rx)\n",
    "print(\"Using real AP transmitters instead of test transmitter\")"
   ]
  },
  {
   "cell_type": "code",
   "execution_count": null,
   "metadata": {},
   "outputs": [],
   "source": [
    "print(scene.transmitters)\n",
    "print(scene.receivers)"
   ]
  },
  {
   "cell_type": "code",
   "execution_count": null,
   "metadata": {},
   "outputs": [],
   "source": [
    "paths = scene.compute_paths()"
   ]
  },
  {
   "cell_type": "code",
   "execution_count": null,
   "metadata": {},
   "outputs": [],
   "source": [
    "scene.preview(paths=paths) "
   ]
  },
  {
   "cell_type": "code",
   "execution_count": null,
   "metadata": {},
   "outputs": [],
   "source": [
    "import numpy as np\n",
    "\n",
    "# --- 1. Define the properties for the horizontal map ---\n",
    "\n",
    "# Rotate the map -90 degrees around the X-axis to make it horizontal\n",
    "orientation = [-np.pi/2, 0.0, 0.0]\n",
    "\n",
    "# Set the center coordinates of your building's floor plan.\n",
    "# You might need to adjust these X and Z values to match your model.\n",
    "center_x = 200.0\n",
    "center_z = -200.0\n",
    "\n",
    "# Set the height above the floor to measure coverage (e.g., 1.5 meters)\n",
    "map_height = 1.5\n",
    "\n",
    "# Set the size (width and length in meters) of the coverage map.\n",
    "# This should be large enough to cover your entire building.\n",
    "map_width = 1000.0\n",
    "map_length = 1000.0\n",
    "\n",
    "\n",
    "# --- 2. Call the function with all the required parameters ---\n",
    "cm = scene.coverage_map(\n",
    "    cm_orientation=orientation,\n",
    "    cm_center=[center_x, map_height, center_z],\n",
    "    cm_size=[map_width, map_length],\n",
    "    num_samples=int(5e4) # IMPORTANT: Use a sample number your GPU can handle\n",
    ")\n",
    "\n",
    "# --- 3. Show the map ---\n",
    "cm.show()"
   ]
  },
  {
   "cell_type": "code",
   "execution_count": null,
   "metadata": {},
   "outputs": [],
   "source": [
    "cm = scene.coverage_map(cm_cell_size=[1.,1.], num_samples=int(1e5))"
   ]
  },
  {
   "cell_type": "code",
   "execution_count": null,
   "metadata": {},
   "outputs": [],
   "source": [
    "cm.show()"
   ]
  }
 ],
 "metadata": {
  "kernelspec": {
   "display_name": "sionna_env",
   "language": "python",
   "name": "python3"
  },
  "language_info": {
   "codemirror_mode": {
    "name": "ipython",
    "version": 3
   },
   "file_extension": ".py",
   "mimetype": "text/x-python",
   "name": "python",
   "nbconvert_exporter": "python",
   "pygments_lexer": "ipython3",
   "version": "3.11.9"
  }
 },
 "nbformat": 4,
 "nbformat_minor": 4
}
