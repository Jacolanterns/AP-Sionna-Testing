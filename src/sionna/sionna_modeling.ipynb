{
 "cells": [
  {
   "cell_type": "code",
   "execution_count": null,
   "metadata": {},
   "outputs": [],
   "source": [
    "import numpy as np\n",
    "import tensorflow as tf \n",
    "import sionna \n",
    "from sionna.rt import Scene, Transmitter, RadioMaterial, load_scene, PlanarArray, Receiver\n",
    "\n",
    "import pandas as pd\n",
    "import matplotlib.pyplot as plt\n",
    "from mpl_toolkits.mplot3d import Axes3D\n",
    "import csv"
   ]
  },
  {
   "cell_type": "code",
   "execution_count": 2,
   "metadata": {},
   "outputs": [],
   "source": [
    "scene = Scene(\"data/blender/2F_solid.xml\")\n",
    "scene.frequency = 2.4e9"
   ]
  },
  {
   "cell_type": "code",
   "execution_count": null,
   "metadata": {},
   "outputs": [],
   "source": [
    "for o in scene.objects.values():\n",
    "    print(o.name, o.radio_material.name)"
   ]
  },
  {
   "cell_type": "code",
   "execution_count": 4,
   "metadata": {},
   "outputs": [],
   "source": [
    "# Add the tranmistters from the data positions file\n",
    "def load_transmitters(filename):\n",
    "    transmitters = []\n",
    "    with open(filename, \"r\") as file:\n",
    "        csv_reader = csv.reader(file)\n",
    "        for row in csv_reader:\n",
    "            name = row[0]\n",
    "            x, y, z = map(float, row[1:])\n",
    "            transmitters.append((name, [x, y, z])) \n",
    "    return transmitters"
   ]
  },
  {
   "cell_type": "code",
   "execution_count": 5,
   "metadata": {},
   "outputs": [],
   "source": [
    "transmitters = load_transmitters(\"transformed_data.csv\")\n",
    "\n",
    "for name, position in transmitters:\n",
    "    tx = Transmitter(name=name, position=position)\n",
    "    scene.add(tx)"
   ]
  },
  {
   "cell_type": "code",
   "execution_count": 6,
   "metadata": {},
   "outputs": [],
   "source": [
    "#scene.preview()"
   ]
  },
  {
   "cell_type": "markdown",
   "metadata": {},
   "source": [
    "## Example: Modeling a single AP"
   ]
  },
  {
   "cell_type": "code",
   "execution_count": 26,
   "metadata": {},
   "outputs": [],
   "source": [
    "for t in scene.transmitters:\n",
    "    scene.remove(t)\n",
    "for r in scene.receivers:\n",
    "    scene.remove(r)"
   ]
  },
  {
   "cell_type": "code",
   "execution_count": null,
   "metadata": {},
   "outputs": [],
   "source": [
    "# Configure antenna array for all receivers\n",
    "scene.tx_array = PlanarArray(num_rows=4, \n",
    "                     num_cols=1,\n",
    "                     vertical_spacing=0.05,\n",
    "                     horizontal_spacing=0.05,\n",
    "                     pattern=\"iso\",\n",
    "                     polarization=\"VH\")\n",
    "\n",
    "# Configure antenna array for all receivers\n",
    "scene.rx_array = PlanarArray(num_rows=1,\n",
    "                          num_cols=1,\n",
    "                          vertical_spacing=0.5,\n",
    "                          horizontal_spacing=0.5,\n",
    "                          pattern=\"dipole\",\n",
    "                          polarization=\"VH\")\n",
    "\n",
    "# Create transmitter\n",
    "tx = Transmitter(name=\"tx\",\n",
    "              position=[50, 20, 20],\n",
    "              orientation=[0,0,0])\n",
    "scene.add(tx)\n",
    "\n",
    "# Create a receiver\n",
    "rx = Receiver(name=\"rx\",\n",
    "           position=[20,7,20],\n",
    "           orientation=[0,0,0])\n",
    "scene.add(rx)\n",
    "\n",
    "# TX points towards RX\n",
    "tx.look_at(rx)\n",
    "\n",
    "print(scene.transmitters)\n",
    "print(scene.receivers)"
   ]
  },
  {
   "cell_type": "code",
   "execution_count": 28,
   "metadata": {},
   "outputs": [],
   "source": [
    "paths = scene.compute_paths()"
   ]
  },
  {
   "cell_type": "code",
   "execution_count": null,
   "metadata": {},
   "outputs": [],
   "source": [
    "scene.preview(paths=paths) "
   ]
  },
  {
   "cell_type": "code",
   "execution_count": null,
   "metadata": {},
   "outputs": [],
   "source": [
    "scene.render(camera=\"preview\", paths=paths)\n",
    "scene.render_to_file(camera=\"preview\",\n",
    "                     filename=\"example_paths.png\",\n",
    "                     paths=paths) "
   ]
  },
  {
   "cell_type": "code",
   "execution_count": 30,
   "metadata": {},
   "outputs": [],
   "source": [
    "cm = scene.coverage_map(cm_cell_size=[1.,1.], num_samples=2e6) "
   ]
  },
  {
   "cell_type": "code",
   "execution_count": null,
   "metadata": {},
   "outputs": [],
   "source": [
    "cm.show()"
   ]
  },
  {
   "cell_type": "code",
   "execution_count": null,
   "metadata": {},
   "outputs": [],
   "source": [
    "scene.preview(coverage_map=cm) "
   ]
  },
  {
   "cell_type": "code",
   "execution_count": null,
   "metadata": {},
   "outputs": [],
   "source": [
    "scene.render(camera=\"preview\", coverage_map=cm)\n",
    "scene.render_to_file(camera=\"preview\",\n",
    "                     filename=\"example_cm_map.png\",\n",
    "                     coverage_map=cm) "
   ]
  },
  {
   "cell_type": "markdown",
   "metadata": {},
   "source": [
    "## Modeling all the APs at the same time"
   ]
  },
  {
   "cell_type": "code",
   "execution_count": 32,
   "metadata": {},
   "outputs": [],
   "source": [
    "for t in scene.transmitters:\n",
    "    scene.remove(t)\n",
    "for r in scene.receivers:\n",
    "    scene.remove(r)"
   ]
  },
  {
   "cell_type": "code",
   "execution_count": 33,
   "metadata": {},
   "outputs": [],
   "source": [
    "transmitters = load_transmitters(\"transformed_data.csv\")\n",
    "\n",
    "for name, position in transmitters:\n",
    "    tx = Transmitter(name=name, position=position)\n",
    "    scene.add(tx)\n",
    "    tx.look_at(rx)"
   ]
  },
  {
   "cell_type": "code",
   "execution_count": null,
   "metadata": {},
   "outputs": [],
   "source": [
    "cm = scene.coverage_map(max_depth=8)\n",
    "\n",
    "for tx_idx in range(cm.num_tx):\n",
    "    # Show 2D plot of the coverage map\n",
    "    fig = cm.show(tx=tx_idx)\n",
    "    fig.savefig(f\"coverage_map_tx{tx_idx}.png\")"
   ]
  },
  {
   "cell_type": "code",
   "execution_count": 35,
   "metadata": {},
   "outputs": [],
   "source": [
    "# Combine coverage maps from all transmitters\n",
    "combined_cm = tf.reduce_max(cm.as_tensor(), axis=0)\n",
    "\n",
    "# Create a new CoverageMap object with the combined data\n",
    "combined_coverage_map = sionna.rt.CoverageMap(\n",
    "    cm.center, cm.orientation, cm.size, cm.cell_size, \n",
    "    tf.expand_dims(combined_cm, axis=0), scene\n",
    ")"
   ]
  },
  {
   "cell_type": "code",
   "execution_count": null,
   "metadata": {},
   "outputs": [],
   "source": [
    "scene.preview(coverage_map=combined_coverage_map, cm_tx=0, resolution=[1000, 600])"
   ]
  },
  {
   "cell_type": "code",
   "execution_count": null,
   "metadata": {},
   "outputs": [],
   "source": [
    "scene.render(camera=\"preview\", coverage_map=combined_coverage_map)\n",
    "scene.render_to_file(\"preview\", \"combined_coverage_map_3d.png\", \n",
    "                     coverage_map=combined_coverage_map, cm_tx=0, \n",
    "                     resolution=[1000, 600])"
   ]
  }
 ],
 "metadata": {
  "kernelspec": {
   "display_name": "Python 3 (ipykernel)",
   "language": "python",
   "name": "python3"
  },
  "language_info": {
   "codemirror_mode": {
    "name": "ipython",
    "version": 3
   },
   "file_extension": ".py",
   "mimetype": "text/x-python",
   "name": "python",
   "nbconvert_exporter": "python",
   "pygments_lexer": "ipython3",
   "version": "3.10.12"
  }
 },
 "nbformat": 4,
 "nbformat_minor": 4
}
